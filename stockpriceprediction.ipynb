{
  "nbformat": 4,
  "nbformat_minor": 0,
  "metadata": {
    "colab": {
      "provenance": [],
      "authorship_tag": "ABX9TyOmrDQiorbD3WQ3SpX4JjEy"
    },
    "kernelspec": {
      "name": "python3",
      "display_name": "Python 3"
    },
    "language_info": {
      "name": "python"
    }
  },
  "cells": [
    {
      "cell_type": "code",
      "execution_count": null,
      "metadata": {
        "id": "H01ipGP3ugBZ"
      },
      "outputs": [],
      "source": [
        "# Import necessary libraries\n",
        "import pandas as pd\n",
        "import numpy as np\n",
        "import matplotlib.pyplot as plt\n",
        "import yfinance as yf\n",
        "from statsmodels.tsa.arima.model import ARIMA\n",
        "from statsmodels.graphics.tsaplots import plot_acf, plot_pacf\n",
        "\n",
        "# Function to fetch stock data\n",
        "def fetch_stock_data(symbol, start, end):\n",
        "    data = yf.download(symbol, start=start, end=end)\n",
        "    return data['Close']  # Return only the closing prices\n",
        "\n",
        "# Fetching historical stock data\n",
        "symbol = 'AAPL'  # Example: Apple Inc.\n",
        "start_date = '2010-01-01'\n",
        "end_date = '2023-01-01'\n",
        "stock_data = fetch_stock_data(symbol, start_date, end_date)\n",
        "\n",
        "# Display the first few rows of the data\n",
        "print(stock_data.head())\n",
        "\n",
        "# Plot the stock prices\n",
        "plt.figure(figsize=(12, 6))\n",
        "plt.plot(stock_data, label='AAPL Closing Prices', color='blue')\n",
        "plt.title('AAPL Stock Prices')\n",
        "plt.xlabel('Date')\n",
        "plt.ylabel('Price')\n",
        "plt.legend()\n",
        "plt.show()\n",
        "\n",
        "# Check for stationarity using ACF and PACF plots\n",
        "plt.figure(figsize=(12, 6))\n",
        "plot_acf(stock_data, lags=30, ax=plt.gca())\n",
        "plt.title('Autocorrelation Function')\n",
        "plt.show()\n",
        "\n",
        "plt.figure(figsize=(12, 6))\n",
        "plot_pacf(stock_data, lags=30, ax=plt.gca())\n",
        "plt.title('Partial Autocorrelation Function')\n",
        "plt.show()\n",
        "\n",
        "# Fit the ARIMA model\n",
        "model = ARIMA(stock_data, order=(5, 1, 0))  # (p, d, q) parameters\n",
        "model_fit = model.fit()\n",
        "\n",
        "# Summary of the model\n",
        "print(model_fit.summary())\n",
        "\n",
        "# Forecasting\n",
        "forecast_steps = 30\n",
        "forecast = model_fit.forecast(steps=forecast_steps)\n",
        "forecast_index = pd.date_range(start=stock_data.index[-1] + pd.Timedelta(days=1), periods=forecast_steps, freq='B')\n",
        "\n",
        "# Plotting the forecast\n",
        "plt.figure(figsize=(12, 6))\n",
        "plt.plot(stock_data, label='Historical Prices', color='blue')\n",
        "plt.plot(forecast_index, forecast, label='Forecasted Prices', color='red')\n",
        "plt.title('AAPL Stock Price Forecast')\n",
        "plt.xlabel('Date')\n",
        "plt.ylabel('Price')\n",
        "plt.legend()\n",
        "plt.show()\n"
      ]
    }
  ]
}